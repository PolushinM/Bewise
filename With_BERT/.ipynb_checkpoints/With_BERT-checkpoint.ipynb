{
 "cells": [
  {
   "cell_type": "markdown",
   "id": "1806c5a8",
   "metadata": {},
   "source": [
    "### Тестовое задание в bewise по парсингу диалогов (с использованием BERT)."
   ]
  },
  {
   "cell_type": "code",
   "execution_count": 2,
   "id": "96727505",
   "metadata": {},
   "outputs": [],
   "source": [
    "import pandas as pd\n",
    "import numpy as np\n",
    "import re\n",
    "from transformers import pipeline\n",
    "%load_ext snakeviz"
   ]
  },
  {
   "cell_type": "markdown",
   "id": "7efc5de2",
   "metadata": {},
   "source": [
    "Загружаем данные в pandas."
   ]
  },
  {
   "cell_type": "code",
   "execution_count": 3,
   "id": "ce438fd0",
   "metadata": {},
   "outputs": [],
   "source": [
    "raw_data = pd.read_csv(\"test_data.csv\")"
   ]
  },
  {
   "cell_type": "markdown",
   "id": "1d618a3d",
   "metadata": {},
   "source": [
    "Заворачиваем всю логику в класс Managers"
   ]
  },
  {
   "cell_type": "code",
   "execution_count": 4,
   "id": "00cef9f6",
   "metadata": {
    "scrolled": true
   },
   "outputs": [],
   "source": [
    "class Managers:\n",
    "    \"\"\"Managers dialogue parsing.\n",
    "        Args:\n",
    "            managers_names: list of company managers names, \n",
    "            valid_greetings: list of valid greetings for managers, \n",
    "            valid_farewells: list of valid farewells for managers,\n",
    "            company_names: list of known companies for extracting,\n",
    "            company_prefixes: list of words, preceding company name,\n",
    "            nevec_path: path to navec pretrained model,\n",
    "            truecaser_path: path to pytorch-truecaser pretrained model,\n",
    "            slovnet_path: path to natasha-slovnet pretrained model,\n",
    "            name_threshold: minimal NER model confidence for manager name extraction,\n",
    "            company_threshold: minimal NER model confidence for company name extraction\n",
    "        \"\"\"\n",
    "    def __init__(self, \n",
    "                 managers_names: list, \n",
    "                 valid_greetings: list, \n",
    "                 valid_farewells: list,\n",
    "                 known_company_names: list,\n",
    "                 company_prefixes: list,\n",
    "                 bert_ner_model: str,\n",
    "                 name_threshold: float = 0.5,\n",
    "                 company_threshold: float = 0.5):\n",
    "        \"\"\"Init.\"\"\"\n",
    "        self.managers_names = managers_names\n",
    "        self.name_threshold = name_threshold\n",
    "        self.company_threshold = company_threshold\n",
    "        self.greeting_pattern = re.compile(r\"(^|\\b)(\" + \"|\".join(valid_greetings) + \")(\\W|\\Z)\", re.I)\n",
    "        self.farewell_pattern = re.compile(r\"(^|\\b)(\" + \"|\".join(valid_farewells) + \")(\\W|\\Z)\", re.I)\n",
    "        self.company_name_pattern = re.compile(r\"(^|\\b)(\" + \"|\".join(known_company_names) + \")(\\W|\\Z)\", re.I)\n",
    "        self.company_stop = {\"которая\", \"как\", \"хорошо\"}\n",
    "        self.names_pattern = re.compile(r\"(^|\\b)(\" + \"|\".join(managers_names) + \")(\\W|\\Z)\", re.I)\n",
    "        presents = list()\n",
    "        for name in managers_names:\n",
    "            presents += self.presents(name)\n",
    "        self.present_pattern = re.compile(r\"(^|\\b)(\" + \"|\".join(presents) + \")(\\W|\\Z)\", re.I)\n",
    "        self.company_pattern = re.compile(r\"(\" + \"|\".join(company_prefixes) + \") (\\w+)\", re.I)\n",
    "        \n",
    "        self.ner_pipeline = pipeline(\"token-classification\", \n",
    "                                     model=bert_ner_model, \n",
    "                                     aggregation_strategy=\"average\")\n",
    "                        \n",
    "    def presents(self, name: str):\n",
    "        \"\"\"Prepare introduce strings for managers.\n",
    "            Args:\n",
    "                name: manager name.\n",
    "            Returns:\n",
    "                List of introduce strings for extracting from dialogue.\n",
    "        \"\"\"\n",
    "        return [f\"меня зовут {name}\", f\"это {name}\", f\"меня {name} зовут\", f\"я {name}\"]\n",
    "        \n",
    "    def greeting(self, text: str) -> str:\n",
    "        \"\"\"Extract greeting.\n",
    "            Args:\n",
    "                text: text of manager speech.\n",
    "            Returns:\n",
    "                Greeting text if found, empy string if not.\n",
    "        \"\"\"\n",
    "        matches = re.search(self.greeting_pattern, text)\n",
    "        result = \"\" if matches is None else matches[0]\n",
    "        return result\n",
    "    \n",
    "    def farewell(self, text: str) -> str:\n",
    "        \"\"\"Extract farewell.\n",
    "            Args:\n",
    "                text: text of manager speech.\n",
    "            Returns:\n",
    "                Farewell text if found, empy string if not.\n",
    "        \"\"\"\n",
    "        matches = re.search(self.farewell_pattern, text)\n",
    "        result = \"\" if matches is None else matches[0]\n",
    "        return result\n",
    "    \n",
    "    def manager_introducing(self, text: str) -> str:\n",
    "        \"\"\"Extract text of manager self introducing.\n",
    "            Args:\n",
    "                text: text of manager speech.\n",
    "            Returns:\n",
    "                Introducing text if found, empy string if not.\n",
    "        \"\"\"\n",
    "        matches = re.search(self.present_pattern, text)\n",
    "        result = \"\" if matches is None else matches[0]\n",
    "        return result\n",
    "    \n",
    "    def manager_name_from_list(self, text: str) -> str:\n",
    "        \"\"\"Extract manager name from list of known managers.\n",
    "            Args:\n",
    "                text: text of manager speech.\n",
    "            Returns:\n",
    "                Name if found, empy string if not.\n",
    "        \"\"\"\n",
    "        matches = re.search(self.names_pattern, text)\n",
    "        name = \"\" if matches is None else matches[0]\n",
    "        return name.capitalize()\n",
    "    \n",
    "    def manager_name_ner(self, text: str) -> str:\n",
    "        \"\"\"Extract manager name with external NER instrument (LaBSE_ner_nerel).\n",
    "            Args:\n",
    "                text: text of manager speech.\n",
    "            Returns:\n",
    "                Name if found, empy string if not.\n",
    "        \"\"\"\n",
    "        matches = self.ner_pipeline(text)\n",
    "        for match in matches:\n",
    "            if match['entity_group'] == 'PERSON' and match['score'] > self.name_threshold:\n",
    "                return match['word'].capitalize()\n",
    "        return \"\"\n",
    "    \n",
    "    def company(self, text: str) -> str:\n",
    "        \"\"\"Extract company name with RegEx.\n",
    "            Args:\n",
    "                text: text of manager speech.\n",
    "            Returns:\n",
    "                Company name if found, empy string if not.\n",
    "        \"\"\"\n",
    "        matches = re.search(self.company_name_pattern, text)\n",
    "        if matches is None:\n",
    "            matches = re.search(self.company_pattern, text)\n",
    "        name = \"\" if matches is None else matches.groups()[1]\n",
    "        name = \"\" if (len(name) < 3) or (name in self.company_stop) else name\n",
    "        return name.capitalize()\n",
    "    \n",
    "    def company_ner(self, text: str) -> str:\n",
    "        \"\"\"Extract manager name with external NER instrument (LaBSE_ner_nerel).\n",
    "            Args:\n",
    "                text: text of manager speech.\n",
    "            Returns:\n",
    "                Company name if found, empy string if not.\n",
    "        \"\"\"\n",
    "        matches = self.ner_pipeline(text.lower())\n",
    "        for match in matches:\n",
    "            if match['entity_group'] == 'ORGANIZATION' and match['score'] > self.company_threshold:\n",
    "                return match['word']\n",
    "        return \"\"\n",
    "        \n",
    "m = Managers(managers_names=[\"Ангелина\", \"Максим\", \"Анастасия\", \"Игорь\"], \n",
    "             valid_greetings=[\"Здравствуйте\", \"Доброе утро\", \"Добрый день\", \"Добрый вечер\"], \n",
    "             valid_farewells=[\"До свидания\", \"Всего доброго\", \"Приятного вечера\"],\n",
    "             known_company_names=[\"Диджитал бизнес\", ], \n",
    "             company_prefixes=[\"компания\", \"ооо\", \"зао\", \"ао\", \"оао\", \"акционерное общество\", \"ип\", \"компания называется\"],\n",
    "             bert_ner_model=\"LaBSE_ner_nerel/LaBSE_nerel_last_checkpoint/\",\n",
    "             name_threshold=0.3,\n",
    "             company_threshold=0.95)\n"
   ]
  },
  {
   "cell_type": "markdown",
   "id": "9bfa88e8",
   "metadata": {},
   "source": [
    "#### 1. Извлекать реплики с приветствием – где менеджер поздоровался. "
   ]
  },
  {
   "cell_type": "markdown",
   "id": "31b87b2d",
   "metadata": {},
   "source": [
    "Выбираем только реплики менеджера"
   ]
  },
  {
   "cell_type": "code",
   "execution_count": 5,
   "id": "14c5b407",
   "metadata": {},
   "outputs": [
    {
     "name": "stdout",
     "output_type": "stream",
     "text": [
      "    dlg_id  line_n                                               text\n",
      "1        0       1                                  Алло здравствуйте\n",
      "3        0       3  Меня зовут ангелина компания диджитал бизнес з...\n",
      "5        0       5  Угу ну возможно вы рассмотрите и другие вариан...\n",
      "8        0       8      Угу а на что вы обращаете внимание при выборе\n",
      "11       0      11                              Что для вас приоритет\n",
      "15       0      15  Ну у вас срок заканчивается поэтому мы набрали...\n",
      "29       0      29  А так нет не только поэтому просто я обратила ...\n",
      "34       0      34  А если вы 19 являетесь то лучше то идти бесплатно\n",
      "36       0      36                                         Ага хорошо\n",
      "45       0      45  Индивидуальным поэтому не все то есть сотрудни...\n"
     ]
    }
   ],
   "source": [
    "data_maneger = raw_data[raw_data.role == \"manager\"].drop([\"role\"], axis=1)\n",
    "print(data_maneger.head(10))"
   ]
  },
  {
   "cell_type": "markdown",
   "id": "610642c2",
   "metadata": {},
   "source": [
    "Выбираем первую и вторую реплики менеджера."
   ]
  },
  {
   "cell_type": "code",
   "execution_count": 6,
   "id": "b3a6a03a",
   "metadata": {},
   "outputs": [
    {
     "data": {
      "text/html": [
       "<div>\n",
       "<style scoped>\n",
       "    .dataframe tbody tr th:only-of-type {\n",
       "        vertical-align: middle;\n",
       "    }\n",
       "\n",
       "    .dataframe tbody tr th {\n",
       "        vertical-align: top;\n",
       "    }\n",
       "\n",
       "    .dataframe thead th {\n",
       "        text-align: right;\n",
       "    }\n",
       "</style>\n",
       "<table border=\"1\" class=\"dataframe\">\n",
       "  <thead>\n",
       "    <tr style=\"text-align: right;\">\n",
       "      <th></th>\n",
       "      <th>dlg_id</th>\n",
       "      <th>line_n</th>\n",
       "      <th>text</th>\n",
       "    </tr>\n",
       "  </thead>\n",
       "  <tbody>\n",
       "    <tr>\n",
       "      <th>1</th>\n",
       "      <td>0</td>\n",
       "      <td>1</td>\n",
       "      <td>Алло здравствуйте</td>\n",
       "    </tr>\n",
       "    <tr>\n",
       "      <th>3</th>\n",
       "      <td>0</td>\n",
       "      <td>3</td>\n",
       "      <td>Меня зовут ангелина компания диджитал бизнес з...</td>\n",
       "    </tr>\n",
       "    <tr>\n",
       "      <th>110</th>\n",
       "      <td>1</td>\n",
       "      <td>1</td>\n",
       "      <td>Алло здравствуйте</td>\n",
       "    </tr>\n",
       "    <tr>\n",
       "      <th>111</th>\n",
       "      <td>1</td>\n",
       "      <td>2</td>\n",
       "      <td>Меня зовут ангелина компания диджитал бизнес з...</td>\n",
       "    </tr>\n",
       "    <tr>\n",
       "      <th>166</th>\n",
       "      <td>2</td>\n",
       "      <td>2</td>\n",
       "      <td>Алло здравствуйте</td>\n",
       "    </tr>\n",
       "    <tr>\n",
       "      <th>167</th>\n",
       "      <td>2</td>\n",
       "      <td>3</td>\n",
       "      <td>Меня зовут ангелина компания диджитал бизнес з...</td>\n",
       "    </tr>\n",
       "    <tr>\n",
       "      <th>250</th>\n",
       "      <td>3</td>\n",
       "      <td>1</td>\n",
       "      <td>Алло дмитрий добрый день</td>\n",
       "    </tr>\n",
       "    <tr>\n",
       "      <th>251</th>\n",
       "      <td>3</td>\n",
       "      <td>2</td>\n",
       "      <td>Добрый меня максим зовут компания китобизнес у...</td>\n",
       "    </tr>\n",
       "    <tr>\n",
       "      <th>305</th>\n",
       "      <td>4</td>\n",
       "      <td>3</td>\n",
       "      <td>Вот по виду платежи пообщаться помните мы вот ...</td>\n",
       "    </tr>\n",
       "    <tr>\n",
       "      <th>308</th>\n",
       "      <td>4</td>\n",
       "      <td>6</td>\n",
       "      <td>Я понял ну мы хотели бы просто предложить тако...</td>\n",
       "    </tr>\n",
       "    <tr>\n",
       "      <th>338</th>\n",
       "      <td>5</td>\n",
       "      <td>1</td>\n",
       "      <td>Да это анастасия</td>\n",
       "    </tr>\n",
       "    <tr>\n",
       "      <th>340</th>\n",
       "      <td>5</td>\n",
       "      <td>3</td>\n",
       "      <td>Угу</td>\n",
       "    </tr>\n",
       "  </tbody>\n",
       "</table>\n",
       "</div>"
      ],
      "text/plain": [
       "     dlg_id  line_n                                               text\n",
       "1         0       1                                  Алло здравствуйте\n",
       "3         0       3  Меня зовут ангелина компания диджитал бизнес з...\n",
       "110       1       1                                  Алло здравствуйте\n",
       "111       1       2  Меня зовут ангелина компания диджитал бизнес з...\n",
       "166       2       2                                  Алло здравствуйте\n",
       "167       2       3  Меня зовут ангелина компания диджитал бизнес з...\n",
       "250       3       1                           Алло дмитрий добрый день\n",
       "251       3       2  Добрый меня максим зовут компания китобизнес у...\n",
       "305       4       3  Вот по виду платежи пообщаться помните мы вот ...\n",
       "308       4       6  Я понял ну мы хотели бы просто предложить тако...\n",
       "338       5       1                                   Да это анастасия\n",
       "340       5       3                                                Угу"
      ]
     },
     "execution_count": 6,
     "metadata": {},
     "output_type": "execute_result"
    }
   ],
   "source": [
    "index = (data_maneger.dlg_id.rolling(2).min() != data_maneger.dlg_id)\n",
    "data_maneger12 = data_maneger[index | index.shift(1, fill_value=False)].copy()\n",
    "data_maneger12"
   ]
  },
  {
   "cell_type": "code",
   "execution_count": 7,
   "id": "40b352fe",
   "metadata": {},
   "outputs": [],
   "source": [
    "raw_data[\"greetings\"] = data_maneger12.text.apply(m.greeting)"
   ]
  },
  {
   "cell_type": "markdown",
   "id": "6059a486",
   "metadata": {},
   "source": [
    "#### 2. Извлекать реплики, где менеджер представил себя. "
   ]
  },
  {
   "cell_type": "code",
   "execution_count": 8,
   "id": "958de339",
   "metadata": {},
   "outputs": [],
   "source": [
    "raw_data[\"manager_introducing\"] = data_maneger12.text.apply(m.manager_introducing)"
   ]
  },
  {
   "cell_type": "markdown",
   "id": "38499185",
   "metadata": {},
   "source": [
    "#### 3. Извлекать имя менеджера."
   ]
  },
  {
   "cell_type": "code",
   "execution_count": 11,
   "id": "f3b20ad3",
   "metadata": {
    "scrolled": true
   },
   "outputs": [],
   "source": [
    "# With RegEx\n",
    "# raw_data[\"manager_name\"] = data_maneger12.text.apply(m.manager_name_from_list)\n",
    "\n",
    "# With Natasha NER\n",
    "raw_data[\"manager_name\"] = data_maneger12.text.apply(m.manager_name_ner)"
   ]
  },
  {
   "cell_type": "markdown",
   "id": "8b24af7f",
   "metadata": {},
   "source": [
    "#### 4. Извлекать название компании. "
   ]
  },
  {
   "cell_type": "code",
   "execution_count": 12,
   "id": "56960780",
   "metadata": {},
   "outputs": [],
   "source": [
    "# With RegEx\n",
    "# raw_data[\"company\"] = raw_data.text.apply(m.company)\n",
    "\n",
    "# With Natasha NER\n",
    "raw_data[\"company\"] = raw_data.text.apply(m.company_ner)"
   ]
  },
  {
   "cell_type": "markdown",
   "id": "ade5e4c3",
   "metadata": {},
   "source": [
    "#### 5. Извлекать реплики, где менеджер попрощался."
   ]
  },
  {
   "cell_type": "markdown",
   "id": "88a3667a",
   "metadata": {},
   "source": [
    "Выбираем предпоследнюю и последнюю реплики менеджера."
   ]
  },
  {
   "cell_type": "code",
   "execution_count": 13,
   "id": "361a78ea",
   "metadata": {},
   "outputs": [],
   "source": [
    "index = ((data_maneger.dlg_id - data_maneger.dlg_id.shift(-1, fill_value=-1)).abs() > 0.1)\n",
    "data_maneger_last = data_maneger[index | index.shift(-1, fill_value=False)]"
   ]
  },
  {
   "cell_type": "code",
   "execution_count": 14,
   "id": "d2db6355",
   "metadata": {},
   "outputs": [],
   "source": [
    "raw_data[\"farewell\"] = data_maneger_last.text.apply(m.farewell)"
   ]
  },
  {
   "cell_type": "markdown",
   "id": "a6ed3c8b",
   "metadata": {},
   "source": [
    "#### 6. Проверять требование к менеджеру: «В каждом диалоге обязательно необходимо поздороваться и попрощаться с клиентом»."
   ]
  },
  {
   "cell_type": "code",
   "execution_count": 15,
   "id": "e46014c0",
   "metadata": {},
   "outputs": [
    {
     "data": {
      "text/html": [
       "<div>\n",
       "<style scoped>\n",
       "    .dataframe tbody tr th:only-of-type {\n",
       "        vertical-align: middle;\n",
       "    }\n",
       "\n",
       "    .dataframe tbody tr th {\n",
       "        vertical-align: top;\n",
       "    }\n",
       "\n",
       "    .dataframe thead th {\n",
       "        text-align: right;\n",
       "    }\n",
       "</style>\n",
       "<table border=\"1\" class=\"dataframe\">\n",
       "  <thead>\n",
       "    <tr style=\"text-align: right;\">\n",
       "      <th></th>\n",
       "      <th>manager_name</th>\n",
       "      <th>greetings and farewell</th>\n",
       "    </tr>\n",
       "  </thead>\n",
       "  <tbody>\n",
       "    <tr>\n",
       "      <th>0</th>\n",
       "      <td>Ангелина</td>\n",
       "      <td>True</td>\n",
       "    </tr>\n",
       "    <tr>\n",
       "      <th>1</th>\n",
       "      <td>Ангелина</td>\n",
       "      <td>True</td>\n",
       "    </tr>\n",
       "    <tr>\n",
       "      <th>2</th>\n",
       "      <td>Ангелина</td>\n",
       "      <td>False</td>\n",
       "    </tr>\n",
       "    <tr>\n",
       "      <th>3</th>\n",
       "      <td>Максим</td>\n",
       "      <td>True</td>\n",
       "    </tr>\n",
       "    <tr>\n",
       "      <th>4</th>\n",
       "      <td></td>\n",
       "      <td>False</td>\n",
       "    </tr>\n",
       "    <tr>\n",
       "      <th>5</th>\n",
       "      <td>Анастасия</td>\n",
       "      <td>False</td>\n",
       "    </tr>\n",
       "  </tbody>\n",
       "</table>\n",
       "</div>"
      ],
      "text/plain": [
       "  manager_name  greetings and farewell\n",
       "0     Ангелина                    True\n",
       "1     Ангелина                    True\n",
       "2     Ангелина                   False\n",
       "3       Максим                    True\n",
       "4                                False\n",
       "5    Анастасия                   False"
      ]
     },
     "execution_count": 15,
     "metadata": {},
     "output_type": "execute_result"
    }
   ],
   "source": [
    "raw_data.fillna('', inplace=True)\n",
    "raw_data.greetings = raw_data.greetings.apply(lambda t: 1 if len(t) > 0 else 0)\n",
    "raw_data.farewell = raw_data.farewell.apply(lambda t: 1 if len(t) > 0 else 0)\n",
    "managers = raw_data.groupby('dlg_id').max().reset_index()[[\"manager_name\", \"greetings\", \"farewell\"]]\n",
    "managers[\"greetings and farewell\"] = (managers.greetings * managers.farewell).astype('bool')\n",
    "managers = managers[[\"manager_name\", \"greetings and farewell\"]]\n",
    "raw_data.drop([\"greetings\", \"farewell\"], axis=1, inplace=True)\n",
    "managers"
   ]
  },
  {
   "cell_type": "markdown",
   "id": "dbe38c91",
   "metadata": {},
   "source": [
    "Результат со всеми извлеченными сущностями:"
   ]
  },
  {
   "cell_type": "code",
   "execution_count": 16,
   "id": "b74d301f",
   "metadata": {
    "scrolled": false
   },
   "outputs": [],
   "source": [
    "raw_data.to_csv(\"result_bert.csv\", index=None)"
   ]
  },
  {
   "cell_type": "code",
   "execution_count": null,
   "id": "6fd5a41f",
   "metadata": {},
   "outputs": [],
   "source": [
    "pd.read_csv(\"result_bert.csv\").fillna('')"
   ]
  },
  {
   "cell_type": "code",
   "execution_count": null,
   "id": "ad1d6cc5",
   "metadata": {},
   "outputs": [],
   "source": []
  }
 ],
 "metadata": {
  "kernelspec": {
   "display_name": "Python 3 (ipykernel)",
   "language": "python",
   "name": "python3"
  },
  "language_info": {
   "codemirror_mode": {
    "name": "ipython",
    "version": 3
   },
   "file_extension": ".py",
   "mimetype": "text/x-python",
   "name": "python",
   "nbconvert_exporter": "python",
   "pygments_lexer": "ipython3",
   "version": "3.9.12"
  }
 },
 "nbformat": 4,
 "nbformat_minor": 5
}
